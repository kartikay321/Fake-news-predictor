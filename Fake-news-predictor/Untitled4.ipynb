{
  "cells": [
    {
      "cell_type": "code",
      "execution_count": null,
      "metadata": {
        "id": "qC6SFQCa5zuq"
      },
      "outputs": [],
      "source": [
        "import pandas as pd\n",
        "import numpy as np\n",
        "import seaborn as sns\n",
        "import matplotlib.pyplot as plt\n",
        "from sklearn.model_selection import train_test_split\n",
        "from sklearn.metrics import accuracy_score\n",
        "from sklearn.metrics import classification_report\n",
        "import re\n",
        "import string"
      ]
    },
    {
      "cell_type": "code",
      "execution_count": null,
      "metadata": {
        "id": "SIv_7ySB6BJy"
      },
      "outputs": [],
      "source": [
        "df = pd.read_excel(\"/content/dataset.xlsx\")\n",
        "x = df[\"text\"]\n",
        "y = df[\"class\"]"
      ]
    },
    {
      "cell_type": "code",
      "execution_count": null,
      "metadata": {
        "colab": {
          "base_uri": "https://localhost:8080/"
        },
        "id": "X4dcELDv6DUi",
        "outputId": "0ad9ef17-3fee-47e4-bc2f-449ac9abdec1"
      },
      "outputs": [
        {
          "data": {
            "text/plain": [
              "(1198, 6)"
            ]
          },
          "execution_count": 3,
          "metadata": {},
          "output_type": "execute_result"
        }
      ],
      "source": [
        "df.shape"
      ]
    },
    {
      "cell_type": "code",
      "execution_count": null,
      "metadata": {
        "colab": {
          "base_uri": "https://localhost:8080/"
        },
        "id": "NjM07LNA6Pdr",
        "outputId": "e2cf309d-4d6b-4380-f085-937773f4c2cf"
      },
      "outputs": [
        {
          "name": "stdout",
          "output_type": "stream",
          "text": [
            "<class 'pandas.core.frame.DataFrame'>\n",
            "RangeIndex: 1198 entries, 0 to 1197\n",
            "Data columns (total 6 columns):\n",
            " #   Column      Non-Null Count  Dtype  \n",
            "---  ------      --------------  -----  \n",
            " 0   title       1198 non-null   object \n",
            " 1   text        1198 non-null   object \n",
            " 2   subject     1198 non-null   object \n",
            " 3   date        1198 non-null   object \n",
            " 4   Unnamed: 4  0 non-null      float64\n",
            " 5   class       1198 non-null   int64  \n",
            "dtypes: float64(1), int64(1), object(4)\n",
            "memory usage: 56.3+ KB\n"
          ]
        }
      ],
      "source": [
        "df.info()"
      ]
    },
    {
      "cell_type": "code",
      "execution_count": null,
      "metadata": {
        "colab": {
          "base_uri": "https://localhost:8080/"
        },
        "id": "F8eICV756Vjh",
        "outputId": "0a1f0aa8-c9b6-403b-e4e7-fb9e0168aeed"
      },
      "outputs": [
        {
          "data": {
            "text/plain": [
              "title            0\n",
              "text             0\n",
              "subject          0\n",
              "date             0\n",
              "Unnamed: 4    1198\n",
              "class            0\n",
              "dtype: int64"
            ]
          },
          "execution_count": 5,
          "metadata": {},
          "output_type": "execute_result"
        }
      ],
      "source": [
        "df.isnull().sum()"
      ]
    },
    {
      "cell_type": "code",
      "execution_count": null,
      "metadata": {
        "colab": {
          "base_uri": "https://localhost:8080/"
        },
        "id": "dN1z6pqe6o-V",
        "outputId": "61ae98a0-d1b8-4a79-d682-542007526ec0"
      },
      "outputs": [
        {
          "data": {
            "text/plain": [
              "1    599\n",
              "0    599\n",
              "Name: class, dtype: int64"
            ]
          },
          "execution_count": 6,
          "metadata": {},
          "output_type": "execute_result"
        }
      ],
      "source": [
        "df['class'].value_counts()"
      ]
    },
    {
      "cell_type": "code",
      "execution_count": null,
      "metadata": {
        "colab": {
          "base_uri": "https://localhost:8080/",
          "height": 300
        },
        "id": "4LJ9u58y61lH",
        "outputId": "f4f44196-d6a3-43ee-d3f3-5e89f92e0017"
      },
      "outputs": [
        {
          "data": {
            "text/html": [
              "<div>\n",
              "<style scoped>\n",
              "    .dataframe tbody tr th:only-of-type {\n",
              "        vertical-align: middle;\n",
              "    }\n",
              "\n",
              "    .dataframe tbody tr th {\n",
              "        vertical-align: top;\n",
              "    }\n",
              "\n",
              "    .dataframe thead th {\n",
              "        text-align: right;\n",
              "    }\n",
              "</style>\n",
              "<table border=\"1\" class=\"dataframe\">\n",
              "  <thead>\n",
              "    <tr style=\"text-align: right;\">\n",
              "      <th></th>\n",
              "      <th>Unnamed: 4</th>\n",
              "      <th>class</th>\n",
              "    </tr>\n",
              "  </thead>\n",
              "  <tbody>\n",
              "    <tr>\n",
              "      <th>count</th>\n",
              "      <td>0.0</td>\n",
              "      <td>1198.000000</td>\n",
              "    </tr>\n",
              "    <tr>\n",
              "      <th>mean</th>\n",
              "      <td>NaN</td>\n",
              "      <td>0.500000</td>\n",
              "    </tr>\n",
              "    <tr>\n",
              "      <th>std</th>\n",
              "      <td>NaN</td>\n",
              "      <td>0.500209</td>\n",
              "    </tr>\n",
              "    <tr>\n",
              "      <th>min</th>\n",
              "      <td>NaN</td>\n",
              "      <td>0.000000</td>\n",
              "    </tr>\n",
              "    <tr>\n",
              "      <th>25%</th>\n",
              "      <td>NaN</td>\n",
              "      <td>0.000000</td>\n",
              "    </tr>\n",
              "    <tr>\n",
              "      <th>50%</th>\n",
              "      <td>NaN</td>\n",
              "      <td>0.500000</td>\n",
              "    </tr>\n",
              "    <tr>\n",
              "      <th>75%</th>\n",
              "      <td>NaN</td>\n",
              "      <td>1.000000</td>\n",
              "    </tr>\n",
              "    <tr>\n",
              "      <th>max</th>\n",
              "      <td>NaN</td>\n",
              "      <td>1.000000</td>\n",
              "    </tr>\n",
              "  </tbody>\n",
              "</table>\n",
              "</div>"
            ],
            "text/plain": [
              "       Unnamed: 4        class\n",
              "count         0.0  1198.000000\n",
              "mean          NaN     0.500000\n",
              "std           NaN     0.500209\n",
              "min           NaN     0.000000\n",
              "25%           NaN     0.000000\n",
              "50%           NaN     0.500000\n",
              "75%           NaN     1.000000\n",
              "max           NaN     1.000000"
            ]
          },
          "execution_count": 7,
          "metadata": {},
          "output_type": "execute_result"
        }
      ],
      "source": [
        "df.describe()"
      ]
    },
    {
      "cell_type": "code",
      "execution_count": null,
      "metadata": {
        "id": "a1Lb73yA640H"
      },
      "outputs": [],
      "source": [
        "x = df[\"text\"]\n",
        "y = df[\"class\"]"
      ]
    },
    {
      "cell_type": "code",
      "execution_count": null,
      "metadata": {
        "id": "MDJdq46m7FY3"
      },
      "outputs": [],
      "source": [
        "x_train, x_test, y_train, y_test = train_test_split(x, y, test_size=0.7)"
      ]
    },
    {
      "cell_type": "code",
      "execution_count": null,
      "metadata": {
        "id": "vsHoDtJd7GqZ"
      },
      "outputs": [],
      "source": [
        "from sklearn.feature_extraction.text import TfidfVectorizer"
      ]
    },
    {
      "cell_type": "code",
      "execution_count": null,
      "metadata": {
        "id": "5giTdk0N7PfP"
      },
      "outputs": [],
      "source": [
        "vectorization = TfidfVectorizer()\n",
        "xv_train = vectorization.fit_transform(x_train)\n",
        "xv_test = vectorization.transform(x_test)"
      ]
    },
    {
      "cell_type": "code",
      "execution_count": null,
      "metadata": {
        "id": "7LbsRzfb7UyU"
      },
      "outputs": [],
      "source": [
        "# print(type(xv_test))"
      ]
    },
    {
      "cell_type": "markdown",
      "metadata": {},
      "source": []
    },
    {
      "cell_type": "code",
      "execution_count": null,
      "metadata": {
        "id": "Rn9IBjf37daK"
      },
      "outputs": [],
      "source": [
        "from sklearn.linear_model import LogisticRegression"
      ]
    },
    {
      "cell_type": "code",
      "execution_count": null,
      "metadata": {
        "colab": {
          "base_uri": "https://localhost:8080/"
        },
        "id": "53lZg3Q47gkR",
        "outputId": "1d4b8626-b419-4d5f-d6b0-9d1505da448e"
      },
      "outputs": [
        {
          "data": {
            "text/plain": [
              "LogisticRegression()"
            ]
          },
          "execution_count": 48,
          "metadata": {},
          "output_type": "execute_result"
        }
      ],
      "source": [
        "LR = LogisticRegression()\n",
        "LR.fit(xv_train,y_train)"
      ]
    },
    {
      "cell_type": "code",
      "execution_count": null,
      "metadata": {
        "id": "clyDZC27_vZd"
      },
      "outputs": [],
      "source": [
        "def wordopt(text):\n",
        "    text = text.lower()\n",
        "    text = re.sub('\\[.*?\\]', '', text)\n",
        "    text = re.sub(\"\\\\W\",\" \",text) \n",
        "    text = re.sub('https?://\\S+|www\\.\\S+', '', text)\n",
        "    text = re.sub('<.*?>+', '', text)\n",
        "    text = re.sub('[%s]' % re.escape(string.punctuation), '', text)\n",
        "    text = re.sub('\\n', '', text)\n",
        "    text = re.sub('\\w*\\d\\w*', '', text)    \n",
        "    return text"
      ]
    },
    {
      "cell_type": "code",
      "execution_count": null,
      "metadata": {
        "id": "sgcRSrSw7rQ6"
      },
      "outputs": [],
      "source": [
        "pred_lr=LR.predict(xv_test)"
      ]
    },
    {
      "cell_type": "code",
      "execution_count": null,
      "metadata": {
        "colab": {
          "base_uri": "https://localhost:8080/"
        },
        "id": "ToSq_rni75nL",
        "outputId": "c8bd4d31-7b67-4a17-c486-9caa41300a66"
      },
      "outputs": [
        {
          "data": {
            "text/plain": [
              "0.9845053635280095"
            ]
          },
          "execution_count": 50,
          "metadata": {},
          "output_type": "execute_result"
        }
      ],
      "source": [
        "LR.score(xv_test, y_test)"
      ]
    },
    {
      "cell_type": "code",
      "execution_count": null,
      "metadata": {
        "colab": {
          "base_uri": "https://localhost:8080/"
        },
        "id": "iV_XTdnU7_Gx",
        "outputId": "0c414701-e089-4b89-b2c5-6b263948d59e"
      },
      "outputs": [
        {
          "data": {
            "text/plain": [
              "0.9972144846796658"
            ]
          },
          "execution_count": 51,
          "metadata": {},
          "output_type": "execute_result"
        }
      ],
      "source": [
        "LR.score(xv_train, y_train)"
      ]
    },
    {
      "cell_type": "code",
      "execution_count": null,
      "metadata": {
        "id": "mGO-g-C48FaK"
      },
      "outputs": [],
      "source": [
        "def manual_testing(news):\n",
        "    testing_news = {\"text\":[news]}\n",
        "    new_def_test = pd.DataFrame(testing_news)\n",
        "    new_def_test[\"text\"] = new_def_test[\"text\"].apply(wordopt) \n",
        "    new_x_test = new_def_test[\"text\"]\n",
        "    new_xv_test = vectorization.transform(new_x_test)\n",
        "    pred_LR = LR.predict(new_xv_test)\n",
        "    # pred_DT = DT.predict(new_xv_test)\n",
        "    # pred_GBC = GBC.predict(new_xv_test)\n",
        "    # # pred_RFC = RFC.predict(new_xv_test)\n",
        "    n=pred_LR[0]\n",
        "    if n == 0:\n",
        "        print(\"Fake News\")\n",
        "    elif n == 1:\n",
        "        print(\"Not A Fake News\")"
      ]
    },
    {
      "cell_type": "code",
      "execution_count": null,
      "metadata": {
        "colab": {
          "base_uri": "https://localhost:8080/"
        },
        "id": "V0iajnUG965v",
        "outputId": "4eb6ede0-fd45-42cd-ebc0-d91fd6210bc0"
      },
      "outputs": [
        {
          "name": "stdout",
          "output_type": "stream",
          "text": [
            "NEW YORK (Reuters) - After deep cuts in spending for Florida schools and other public programs following the Great Recession, outgoing Republican Governor Rick Scott this month proposed an $87.4 billion budget he says boosts spending on some depleted services to record levels.  Despite Scottâ€™s meaty 2018-2019 budget recommendation, which is about $2.4 billion above current spending, advocates for Florida public education, environment and affordable housing remained skeptical the new plan would go far enough. â€œIt doesnâ€™t move Florida (schools) out from the bottom when compared to other states,â€ said Mark Pudlow, spokesman for the Florida Education Association, the stateâ€™s teachers union.  Floridaâ€™s public school per-pupil spending sank from a peak of $7,126 in the 2007-2008 budget to a post-recession low of $6,217 for the 2011-2012 year.  In his latest proposal, Scott recommended increasing funding to $7,176 per student, a $50 rise above record-high per-student funding. Florida has more than 2.7 million students enrolled in its public K-12 schools. Pudlow said he welcomed the governorâ€™s increases, but support for Florida education was still lagging far behind most of the United States. The nationwide per-student spending average was $11,392 in 2015, according to the most recent U.S. Census Bureau data available. Adjusted for inflation, Pudlow pointed out, Scottâ€™s budget puts Floridaâ€™s per-student spending at about $1,200 less than it was at its peak. Scott proposed increasing public elementary and secondary school spending to about $14.71 billion from some $14.45 billion in the current fiscal year.  Andrea Messina, executive director of the Florida School Boards Association, said she was hopeful Scottâ€™s proposal signaled a an attitude shift in the state capital toward public education financing, but the bill was far from final. The Florida House of Representatives and Senate will hear the governorâ€™s budget recommendations at the next legislative session starting on Jan. 9. They then make their own budget proposals and negotiate until a single plan is agreed on.  That budget will go back to the governor, who has the authority to veto line items before signing off on the bill. Scott has also proposed $180 million in cuts to taxes and fees and asked for sharp increases in spending on departments, including corrections, which would see more than 500 added jobs under the plan.  The budget for environmental protection would surge to more than $1.7 billion from $1.48 billion in the current year, making it among the budgetâ€™s biggest gainers. Florida Everglades restoration would be among the environmental projects to receive an infusion of funds. â€œThatâ€™s one place where weâ€™re happy, although the devil is in the details,â€ said Frank Jackalone, director of Sierra Club Florida. Jackalone said he was concerned the state would continue to cut environmental rules enforcement and to take from earmarked funds intended for the environment to spend on other government programs. State Representative Carlos Smith, a Democrat who represents a central Florida district seeing an influx of residents fleeing from hurricane-battered areas, including Puerto Rico, said he opposed Scottâ€™s budget proposal on affordable housing. Under the plan, overall spending on affordable housing would rise, Smith said, but it would also include a raid of nearly $92 million on trust funds earmarked for affordable homes. â€œWe donâ€™t know what to do, people are sleeping in cars,â€ Smith said of storm evacuees, namely Puerto Ricans fleeing the bankrupt and hurricane-battered U.S. commonwealth. \n",
            "Not A Fake News\n"
          ]
        }
      ],
      "source": [
        "news = str(input())\n",
        "manual_testing(news)"
      ]
    }
  ],
  "metadata": {
    "colab": {
      "name": "Untitled4.ipynb",
      "provenance": []
    },
    "kernelspec": {
      "display_name": "Python 3",
      "name": "python3"
    },
    "language_info": {
      "name": "python"
    }
  },
  "nbformat": 4,
  "nbformat_minor": 0
}
